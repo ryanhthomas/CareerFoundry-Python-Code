{
 "cells": [
  {
   "cell_type": "code",
   "execution_count": 1,
   "id": "48a0e7ea",
   "metadata": {},
   "outputs": [],
   "source": [
    "# Import libraries\n",
    "import pandas as pd\n",
    "import numpy as np\n",
    "import os"
   ]
  },
  {
   "cell_type": "code",
   "execution_count": 2,
   "id": "7bcfe97f",
   "metadata": {},
   "outputs": [],
   "source": [
    "path = r'C:\\Users\\rhtho\\Documents\\CareerFoundry\\Data Immersion\\Achievement 4\\04-2023 Instacart Basket Analysis'\n",
    "ords_prods_merge = pd.read_pickle(os.path.join(path, '02 Data', 'Prepared Data', 'orders_products_merged_4.8.pkl'))"
   ]
  },
  {
   "cell_type": "code",
   "execution_count": 3,
   "id": "b078d10a",
   "metadata": {},
   "outputs": [
    {
     "name": "stdout",
     "output_type": "stream",
     "text": [
      "<class 'pandas.core.frame.DataFrame'>\n",
      "Int64Index: 32404859 entries, 0 to 32404858\n",
      "Data columns (total 26 columns):\n",
      " #   Column                         Dtype   \n",
      "---  ------                         -----   \n",
      " 0   Unnamed: 0_x                   int64   \n",
      " 1   order_id                       int64   \n",
      " 2   user_id                        int64   \n",
      " 3   eval_set                       object  \n",
      " 4   order_number                   int64   \n",
      " 5   order_dow                      int64   \n",
      " 6   order_hour_of_day              int64   \n",
      " 7   days_since_prior_order         float64 \n",
      " 8   product_id                     int64   \n",
      " 9   add_to_cart_order              int64   \n",
      " 10  reordered                      int64   \n",
      " 11  Unnamed: 0_y                   int64   \n",
      " 12  product_name                   object  \n",
      " 13  aisle_id                       int64   \n",
      " 14  department_id                  int64   \n",
      " 15  prices                         float64 \n",
      " 16  _merge                         category\n",
      " 17  price_range_loc                object  \n",
      " 18  busiest_days                   object  \n",
      " 19  busiest_period_of_day          object  \n",
      " 20  max_order                      int64   \n",
      " 21  loyalty_flag                   object  \n",
      " 22  mean_price                     float64 \n",
      " 23  spending_flag                  object  \n",
      " 24  median_days_since_prior_order  float64 \n",
      " 25  order_frequency_flag           object  \n",
      "dtypes: category(1), float64(4), int64(13), object(8)\n",
      "memory usage: 6.3+ GB\n"
     ]
    }
   ],
   "source": [
    "ords_prods_merge.info()"
   ]
  },
  {
   "cell_type": "code",
   "execution_count": 5,
   "id": "0379ef2e",
   "metadata": {},
   "outputs": [],
   "source": [
    "ords_prods_merge = ords_prods_merge.drop(columns=['Unnamed: 0_x','Unnamed: 0_y','_merge'])"
   ]
  },
  {
   "cell_type": "code",
   "execution_count": 6,
   "id": "8796942a",
   "metadata": {},
   "outputs": [],
   "source": [
    "ords_prods_merge.to_pickle(os.path.join(path, '02 Data','Prepared Data', 'orders_products_merged_4.9.1.pkl'))"
   ]
  },
  {
   "cell_type": "code",
   "execution_count": null,
   "id": "60e1684c",
   "metadata": {},
   "outputs": [],
   "source": []
  }
 ],
 "metadata": {
  "kernelspec": {
   "display_name": "Python 3 (ipykernel)",
   "language": "python",
   "name": "python3"
  },
  "language_info": {
   "codemirror_mode": {
    "name": "ipython",
    "version": 3
   },
   "file_extension": ".py",
   "mimetype": "text/x-python",
   "name": "python",
   "nbconvert_exporter": "python",
   "pygments_lexer": "ipython3",
   "version": "3.10.9"
  }
 },
 "nbformat": 4,
 "nbformat_minor": 5
}
