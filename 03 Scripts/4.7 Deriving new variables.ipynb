{
 "cells": [
  {
   "cell_type": "markdown",
   "id": "d0240d52",
   "metadata": {},
   "source": [
    "## Exercise 4.7"
   ]
  },
  {
   "cell_type": "code",
   "execution_count": 1,
   "id": "f837e5d8",
   "metadata": {},
   "outputs": [],
   "source": [
    "# Import libraries\n",
    "import pandas as pd\n",
    "import numpy as np\n",
    "import os"
   ]
  },
  {
   "cell_type": "code",
   "execution_count": 2,
   "id": "92069f88",
   "metadata": {},
   "outputs": [],
   "source": [
    "# Create dataframes\n",
    "path = r'C:\\Users\\rhtho\\Documents\\CareerFoundry\\Data Immersion\\Achievement 4\\04-2023 Instacart Basket Analysis'\n",
    "ords_prods_merged = pd.read_pickle(os.path.join(path, '02 Data', 'Prepared Data', 'orders_products_merged.pkl'))"
   ]
  },
  {
   "cell_type": "code",
   "execution_count": 11,
   "id": "3afea92b",
   "metadata": {},
   "outputs": [],
   "source": [
    "df = ords_prods_merged[:1000000]"
   ]
  },
  {
   "cell_type": "code",
   "execution_count": 12,
   "id": "49ed4560",
   "metadata": {},
   "outputs": [
    {
     "data": {
      "text/html": [
       "<div>\n",
       "<style scoped>\n",
       "    .dataframe tbody tr th:only-of-type {\n",
       "        vertical-align: middle;\n",
       "    }\n",
       "\n",
       "    .dataframe tbody tr th {\n",
       "        vertical-align: top;\n",
       "    }\n",
       "\n",
       "    .dataframe thead th {\n",
       "        text-align: right;\n",
       "    }\n",
       "</style>\n",
       "<table border=\"1\" class=\"dataframe\">\n",
       "  <thead>\n",
       "    <tr style=\"text-align: right;\">\n",
       "      <th></th>\n",
       "      <th>Unnamed: 0_x</th>\n",
       "      <th>order_id</th>\n",
       "      <th>user_id</th>\n",
       "      <th>eval_set</th>\n",
       "      <th>order_number</th>\n",
       "      <th>order_dow</th>\n",
       "      <th>order_hour_of_day</th>\n",
       "      <th>days_since_prior_order</th>\n",
       "      <th>product_id</th>\n",
       "      <th>add_to_cart_order</th>\n",
       "      <th>reordered</th>\n",
       "      <th>Unnamed: 0_y</th>\n",
       "      <th>product_name</th>\n",
       "      <th>aisle_id</th>\n",
       "      <th>department_id</th>\n",
       "      <th>prices</th>\n",
       "      <th>_merge</th>\n",
       "    </tr>\n",
       "  </thead>\n",
       "  <tbody>\n",
       "    <tr>\n",
       "      <th>999995</th>\n",
       "      <td>2731921</td>\n",
       "      <td>2836489</td>\n",
       "      <td>164627</td>\n",
       "      <td>prior</td>\n",
       "      <td>14</td>\n",
       "      <td>0</td>\n",
       "      <td>15</td>\n",
       "      <td>6.0</td>\n",
       "      <td>30489</td>\n",
       "      <td>2</td>\n",
       "      <td>0</td>\n",
       "      <td>30491</td>\n",
       "      <td>Original Hummus</td>\n",
       "      <td>67</td>\n",
       "      <td>20</td>\n",
       "      <td>7.5</td>\n",
       "      <td>both</td>\n",
       "    </tr>\n",
       "    <tr>\n",
       "      <th>999996</th>\n",
       "      <td>2731962</td>\n",
       "      <td>1843600</td>\n",
       "      <td>164632</td>\n",
       "      <td>prior</td>\n",
       "      <td>5</td>\n",
       "      <td>1</td>\n",
       "      <td>19</td>\n",
       "      <td>9.0</td>\n",
       "      <td>30489</td>\n",
       "      <td>2</td>\n",
       "      <td>0</td>\n",
       "      <td>30491</td>\n",
       "      <td>Original Hummus</td>\n",
       "      <td>67</td>\n",
       "      <td>20</td>\n",
       "      <td>7.5</td>\n",
       "      <td>both</td>\n",
       "    </tr>\n",
       "    <tr>\n",
       "      <th>999997</th>\n",
       "      <td>2731966</td>\n",
       "      <td>733106</td>\n",
       "      <td>164632</td>\n",
       "      <td>prior</td>\n",
       "      <td>9</td>\n",
       "      <td>2</td>\n",
       "      <td>22</td>\n",
       "      <td>10.0</td>\n",
       "      <td>30489</td>\n",
       "      <td>3</td>\n",
       "      <td>1</td>\n",
       "      <td>30491</td>\n",
       "      <td>Original Hummus</td>\n",
       "      <td>67</td>\n",
       "      <td>20</td>\n",
       "      <td>7.5</td>\n",
       "      <td>both</td>\n",
       "    </tr>\n",
       "    <tr>\n",
       "      <th>999998</th>\n",
       "      <td>2731974</td>\n",
       "      <td>1650124</td>\n",
       "      <td>164632</td>\n",
       "      <td>prior</td>\n",
       "      <td>17</td>\n",
       "      <td>6</td>\n",
       "      <td>17</td>\n",
       "      <td>13.0</td>\n",
       "      <td>30489</td>\n",
       "      <td>1</td>\n",
       "      <td>1</td>\n",
       "      <td>30491</td>\n",
       "      <td>Original Hummus</td>\n",
       "      <td>67</td>\n",
       "      <td>20</td>\n",
       "      <td>7.5</td>\n",
       "      <td>both</td>\n",
       "    </tr>\n",
       "    <tr>\n",
       "      <th>999999</th>\n",
       "      <td>2731979</td>\n",
       "      <td>3378258</td>\n",
       "      <td>164632</td>\n",
       "      <td>prior</td>\n",
       "      <td>22</td>\n",
       "      <td>6</td>\n",
       "      <td>10</td>\n",
       "      <td>15.0</td>\n",
       "      <td>30489</td>\n",
       "      <td>3</td>\n",
       "      <td>1</td>\n",
       "      <td>30491</td>\n",
       "      <td>Original Hummus</td>\n",
       "      <td>67</td>\n",
       "      <td>20</td>\n",
       "      <td>7.5</td>\n",
       "      <td>both</td>\n",
       "    </tr>\n",
       "  </tbody>\n",
       "</table>\n",
       "</div>"
      ],
      "text/plain": [
       "        Unnamed: 0_x  order_id  user_id eval_set  order_number  order_dow  \\\n",
       "999995       2731921   2836489   164627    prior            14          0   \n",
       "999996       2731962   1843600   164632    prior             5          1   \n",
       "999997       2731966    733106   164632    prior             9          2   \n",
       "999998       2731974   1650124   164632    prior            17          6   \n",
       "999999       2731979   3378258   164632    prior            22          6   \n",
       "\n",
       "        order_hour_of_day  days_since_prior_order  product_id  \\\n",
       "999995                 15                     6.0       30489   \n",
       "999996                 19                     9.0       30489   \n",
       "999997                 22                    10.0       30489   \n",
       "999998                 17                    13.0       30489   \n",
       "999999                 10                    15.0       30489   \n",
       "\n",
       "        add_to_cart_order  reordered  Unnamed: 0_y     product_name  aisle_id  \\\n",
       "999995                  2          0         30491  Original Hummus        67   \n",
       "999996                  2          0         30491  Original Hummus        67   \n",
       "999997                  3          1         30491  Original Hummus        67   \n",
       "999998                  1          1         30491  Original Hummus        67   \n",
       "999999                  3          1         30491  Original Hummus        67   \n",
       "\n",
       "        department_id  prices _merge  \n",
       "999995             20     7.5   both  \n",
       "999996             20     7.5   both  \n",
       "999997             20     7.5   both  \n",
       "999998             20     7.5   both  \n",
       "999999             20     7.5   both  "
      ]
     },
     "execution_count": 12,
     "metadata": {},
     "output_type": "execute_result"
    }
   ],
   "source": [
    "df.tail()"
   ]
  },
  {
   "cell_type": "code",
   "execution_count": 13,
   "id": "9def30de",
   "metadata": {},
   "outputs": [],
   "source": [
    "def price_label(row):\n",
    "\n",
    "  if row['prices'] <= 5:\n",
    "    return 'Low-range product'\n",
    "  elif (row['prices'] > 5) and (row['prices'] <= 15):\n",
    "    return 'Mid-range product'\n",
    "  elif row['prices'] > 15:\n",
    "    return 'High range'\n",
    "  else: return 'Not enough data'"
   ]
  },
  {
   "cell_type": "code",
   "execution_count": 14,
   "id": "244f5c4a",
   "metadata": {},
   "outputs": [
    {
     "name": "stderr",
     "output_type": "stream",
     "text": [
      "C:\\Users\\rhtho\\AppData\\Local\\Temp\\ipykernel_20700\\2848743372.py:1: SettingWithCopyWarning: \n",
      "A value is trying to be set on a copy of a slice from a DataFrame.\n",
      "Try using .loc[row_indexer,col_indexer] = value instead\n",
      "\n",
      "See the caveats in the documentation: https://pandas.pydata.org/pandas-docs/stable/user_guide/indexing.html#returning-a-view-versus-a-copy\n",
      "  df['price_range'] = df.apply(price_label, axis=1)\n"
     ]
    }
   ],
   "source": [
    "df['price_range'] = df.apply(price_label, axis=1)"
   ]
  },
  {
   "cell_type": "code",
   "execution_count": 17,
   "id": "81b2858d",
   "metadata": {},
   "outputs": [
    {
     "data": {
      "text/plain": [
       "Mid-range product    756450\n",
       "Low-range product    243550\n",
       "Name: price_range, dtype: int64"
      ]
     },
     "execution_count": 17,
     "metadata": {},
     "output_type": "execute_result"
    }
   ],
   "source": [
    "df['price_range'].value_counts(dropna=False)"
   ]
  },
  {
   "cell_type": "code",
   "execution_count": 18,
   "id": "c180162a",
   "metadata": {},
   "outputs": [
    {
     "data": {
      "text/plain": [
       "14.8"
      ]
     },
     "execution_count": 18,
     "metadata": {},
     "output_type": "execute_result"
    }
   ],
   "source": [
    "df['prices'].max()"
   ]
  },
  {
   "cell_type": "code",
   "execution_count": 19,
   "id": "b4f10f71",
   "metadata": {},
   "outputs": [
    {
     "name": "stderr",
     "output_type": "stream",
     "text": [
      "C:\\Users\\rhtho\\AppData\\Local\\Temp\\ipykernel_20700\\1169838859.py:1: SettingWithCopyWarning: \n",
      "A value is trying to be set on a copy of a slice from a DataFrame.\n",
      "Try using .loc[row_indexer,col_indexer] = value instead\n",
      "\n",
      "See the caveats in the documentation: https://pandas.pydata.org/pandas-docs/stable/user_guide/indexing.html#returning-a-view-versus-a-copy\n",
      "  df.loc[df['prices'] > 15, 'price_range_loc'] = 'High-range product'\n"
     ]
    }
   ],
   "source": [
    "df.loc[df['prices'] > 15, 'price_range_loc'] = 'High-range product'"
   ]
  },
  {
   "cell_type": "code",
   "execution_count": 20,
   "id": "00261620",
   "metadata": {},
   "outputs": [],
   "source": [
    "df.loc[(df['prices'] <= 15) & (df['prices'] > 5), 'price_range_loc'] = 'Mid-range product' "
   ]
  },
  {
   "cell_type": "code",
   "execution_count": 21,
   "id": "e34abe64",
   "metadata": {},
   "outputs": [],
   "source": [
    "df.loc[df['prices'] <= 5, 'price_range_loc'] = 'Low-range product'"
   ]
  },
  {
   "cell_type": "code",
   "execution_count": 22,
   "id": "451c4bf3",
   "metadata": {},
   "outputs": [
    {
     "data": {
      "text/plain": [
       "Mid-range product    756450\n",
       "Low-range product    243550\n",
       "Name: price_range_loc, dtype: int64"
      ]
     },
     "execution_count": 22,
     "metadata": {},
     "output_type": "execute_result"
    }
   ],
   "source": [
    "df['price_range_loc'].value_counts(dropna=False)"
   ]
  },
  {
   "cell_type": "code",
   "execution_count": 3,
   "id": "078d69f6",
   "metadata": {},
   "outputs": [],
   "source": [
    "ords_prods_merged.loc[ords_prods_merged['prices'] > 15, 'price_range_loc'] = 'High-range product'"
   ]
  },
  {
   "cell_type": "code",
   "execution_count": 4,
   "id": "d7518e07",
   "metadata": {},
   "outputs": [],
   "source": [
    "ords_prods_merged.loc[(ords_prods_merged['prices'] <= 15) & (ords_prods_merged['prices'] > 5), 'price_range_loc'] = 'Mid-range product' "
   ]
  },
  {
   "cell_type": "code",
   "execution_count": 5,
   "id": "55f21bba",
   "metadata": {},
   "outputs": [],
   "source": [
    "ords_prods_merged.loc[ords_prods_merged['prices'] <= 5, 'price_range_loc'] = 'Low-range product'"
   ]
  },
  {
   "cell_type": "code",
   "execution_count": 6,
   "id": "1a45a33c",
   "metadata": {},
   "outputs": [
    {
     "data": {
      "text/plain": [
       "Mid-range product     21860860\n",
       "Low-range product     10126321\n",
       "High-range product      417678\n",
       "Name: price_range_loc, dtype: int64"
      ]
     },
     "execution_count": 6,
     "metadata": {},
     "output_type": "execute_result"
    }
   ],
   "source": [
    "ords_prods_merged['price_range_loc'].value_counts(dropna=False)"
   ]
  },
  {
   "cell_type": "code",
   "execution_count": 7,
   "id": "405d9a8c",
   "metadata": {},
   "outputs": [
    {
     "data": {
      "text/plain": [
       "0    6204182\n",
       "1    5660230\n",
       "6    4496490\n",
       "2    4213830\n",
       "5    4205791\n",
       "3    3840534\n",
       "4    3783802\n",
       "Name: order_dow, dtype: int64"
      ]
     },
     "execution_count": 7,
     "metadata": {},
     "output_type": "execute_result"
    }
   ],
   "source": [
    "ords_prods_merged['order_dow'].value_counts(dropna=False)"
   ]
  },
  {
   "cell_type": "code",
   "execution_count": 8,
   "id": "c756136f",
   "metadata": {},
   "outputs": [],
   "source": [
    "result = []\n",
    "\n",
    "for value in ords_prods_merged[\"order_dow\"]:\n",
    "  if value == 0:\n",
    "    result.append(\"Busiest day\")\n",
    "  elif value == 4:\n",
    "    result.append(\"Least busy\")\n",
    "  else:\n",
    "    result.append(\"Regularly busy\")"
   ]
  },
  {
   "cell_type": "code",
   "execution_count": 31,
   "id": "44e5ff6d",
   "metadata": {},
   "outputs": [
    {
     "data": {
      "text/plain": [
       "['Regularly busy',\n",
       " 'Regularly busy',\n",
       " 'Regularly busy',\n",
       " 'Least busy',\n",
       " 'Least busy',\n",
       " 'Regularly busy',\n",
       " 'Regularly busy',\n",
       " 'Regularly busy',\n",
       " 'Regularly busy',\n",
       " 'Least busy']"
      ]
     },
     "execution_count": 31,
     "metadata": {},
     "output_type": "execute_result"
    }
   ],
   "source": [
    "result[:10]"
   ]
  },
  {
   "cell_type": "code",
   "execution_count": 9,
   "id": "5525c84e",
   "metadata": {},
   "outputs": [],
   "source": [
    "ords_prods_merged['busiest_day'] = result"
   ]
  },
  {
   "cell_type": "code",
   "execution_count": 10,
   "id": "c8ed2924",
   "metadata": {},
   "outputs": [
    {
     "data": {
      "text/plain": [
       "Regularly busy    22416875\n",
       "Busiest day        6204182\n",
       "Least busy         3783802\n",
       "Name: busiest_day, dtype: int64"
      ]
     },
     "execution_count": 10,
     "metadata": {},
     "output_type": "execute_result"
    }
   ],
   "source": [
    "ords_prods_merged['busiest_day'].value_counts(dropna=False)"
   ]
  },
  {
   "cell_type": "markdown",
   "id": "5cd6907a",
   "metadata": {},
   "source": [
    "## Task 4.7"
   ]
  },
  {
   "cell_type": "markdown",
   "id": "6d487262",
   "metadata": {},
   "source": [
    "#### Create column for two busiest and slowest days"
   ]
  },
  {
   "cell_type": "code",
   "execution_count": 11,
   "id": "e8db0b47",
   "metadata": {},
   "outputs": [],
   "source": [
    "# Drop previous busiest day column\n",
    "ords_prods_merged = ords_prods_merged.drop(columns=['busiest_day'])"
   ]
  },
  {
   "cell_type": "code",
   "execution_count": 12,
   "id": "875e13e3",
   "metadata": {},
   "outputs": [],
   "source": [
    "# For loop\n",
    "results = []\n",
    "\n",
    "for value in ords_prods_merged[\"order_dow\"]:\n",
    "  if value == 0 or value == 1:\n",
    "    results.append(\"Busiest days\")\n",
    "  elif value == 4 or value == 3:\n",
    "    results.append(\"Slowest days\")\n",
    "  else:\n",
    "    results.append(\"Regular days\")"
   ]
  },
  {
   "cell_type": "code",
   "execution_count": 14,
   "id": "dc647acb",
   "metadata": {},
   "outputs": [],
   "source": [
    "# Create column\n",
    "ords_prods_merged['busiest_days'] = results"
   ]
  },
  {
   "cell_type": "code",
   "execution_count": 15,
   "id": "74bbd4d5",
   "metadata": {},
   "outputs": [
    {
     "data": {
      "text/plain": [
       "Regular days    12916111\n",
       "Busiest days    11864412\n",
       "Slowest days     7624336\n",
       "Name: busiest_days, dtype: int64"
      ]
     },
     "execution_count": 15,
     "metadata": {},
     "output_type": "execute_result"
    }
   ],
   "source": [
    "# Print frequency\n",
    "ords_prods_merged['busiest_days'].value_counts(dropna=False)"
   ]
  },
  {
   "cell_type": "markdown",
   "id": "8b729e0a",
   "metadata": {},
   "source": [
    "#### Create column for busiest  and least busy hours of the day"
   ]
  },
  {
   "cell_type": "code",
   "execution_count": 41,
   "id": "df6cb822",
   "metadata": {},
   "outputs": [
    {
     "data": {
      "text/plain": [
       "10    2761760\n",
       "11    2736140\n",
       "14    2689136\n",
       "15    2662144\n",
       "13    2660954\n",
       "12    2618532\n",
       "16    2535202\n",
       "9     2454203\n",
       "17    2087654\n",
       "8     1718118\n",
       "18    1636502\n",
       "19    1258305\n",
       "20     976156\n",
       "7      891054\n",
       "21     795637\n",
       "22     634225\n",
       "23     402316\n",
       "6      290493\n",
       "0      218769\n",
       "1      115700\n",
       "5       87961\n",
       "2       69375\n",
       "4       53242\n",
       "3       51281\n",
       "Name: order_hour_of_day, dtype: int64"
      ]
     },
     "execution_count": 41,
     "metadata": {},
     "output_type": "execute_result"
    }
   ],
   "source": [
    "# Print frequency\n",
    "ords_prods_merged['order_hour_of_day'].value_counts(dropna=False)"
   ]
  },
  {
   "cell_type": "code",
   "execution_count": 16,
   "id": "3cb0d18e",
   "metadata": {},
   "outputs": [],
   "source": [
    "# For loop\n",
    "hour_results = []\n",
    "\n",
    "for value in ords_prods_merged[\"order_hour_of_day\"]:\n",
    "  if value == 10 or value == 11 or value == 14 or value == 15 or value == 13:\n",
    "    hour_results.append(\"Most orders\")\n",
    "  elif value == 4 or value == 3 or value == 2 or value == 5 or value == 1:\n",
    "    hour_results.append(\"Fewest orders\")\n",
    "  else:\n",
    "    hour_results.append(\"Average orders\")"
   ]
  },
  {
   "cell_type": "code",
   "execution_count": 17,
   "id": "5d128029",
   "metadata": {},
   "outputs": [],
   "source": [
    "# Create column\n",
    "ords_prods_merged['busiest_period_of_day'] = hour_results"
   ]
  },
  {
   "cell_type": "code",
   "execution_count": 18,
   "id": "de43bff3",
   "metadata": {},
   "outputs": [
    {
     "data": {
      "text/plain": [
       "Average orders    18517166\n",
       "Most orders       13510134\n",
       "Fewest orders       377559\n",
       "Name: busiest_period_of_day, dtype: int64"
      ]
     },
     "execution_count": 18,
     "metadata": {},
     "output_type": "execute_result"
    }
   ],
   "source": [
    "# Print frequency\n",
    "ords_prods_merged['busiest_period_of_day'].value_counts(dropna=False)"
   ]
  },
  {
   "cell_type": "code",
   "execution_count": 19,
   "id": "face0999",
   "metadata": {},
   "outputs": [],
   "source": [
    "# Export pickle\n",
    "ords_prods_merged.to_pickle(os.path.join(path, '02 Data','Prepared Data', 'orders_products_merged_4.7.pkl'))"
   ]
  }
 ],
 "metadata": {
  "kernelspec": {
   "display_name": "Python 3 (ipykernel)",
   "language": "python",
   "name": "python3"
  },
  "language_info": {
   "codemirror_mode": {
    "name": "ipython",
    "version": 3
   },
   "file_extension": ".py",
   "mimetype": "text/x-python",
   "name": "python",
   "nbconvert_exporter": "python",
   "pygments_lexer": "ipython3",
   "version": "3.10.9"
  }
 },
 "nbformat": 4,
 "nbformat_minor": 5
}
