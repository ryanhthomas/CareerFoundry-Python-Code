{
 "cells": [
  {
   "cell_type": "markdown",
   "id": "58750e95",
   "metadata": {},
   "source": [
    "# 01. Importing Libraries"
   ]
  },
  {
   "cell_type": "code",
   "execution_count": null,
   "id": "0f786eab",
   "metadata": {},
   "outputs": [],
   "source": [
    "# Importing libraries\n",
    "import pandas as pd\n",
    "import numpy as np\n",
    "import os"
   ]
  },
  {
   "cell_type": "markdown",
   "id": "b61d638f",
   "metadata": {},
   "source": [
    "## Working with Python Data Types"
   ]
  },
  {
   "cell_type": "code",
   "execution_count": 2,
   "id": "ba3230b4",
   "metadata": {},
   "outputs": [
    {
     "data": {
      "text/plain": [
       "'New career, here I come.'"
      ]
     },
     "execution_count": 2,
     "metadata": {},
     "output_type": "execute_result"
    }
   ],
   "source": [
    "99 + 1\n",
    "101 - 1\n",
    "50 + 50\n",
    "4.56 / 2.38\n",
    "\"Hel\" + \"lo\"\n",
    "\"I'm about halfway\" + \"through\" + \"this course.\"\n",
    "\"New career\" + \", \" + \"here I come.\""
   ]
  }
 ],
 "metadata": {
  "kernelspec": {
   "display_name": "Python 3 (ipykernel)",
   "language": "python",
   "name": "python3"
  },
  "language_info": {
   "codemirror_mode": {
    "name": "ipython",
    "version": 3
   },
   "file_extension": ".py",
   "mimetype": "text/x-python",
   "name": "python",
   "nbconvert_exporter": "python",
   "pygments_lexer": "ipython3",
   "version": "3.10.9"
  }
 },
 "nbformat": 4,
 "nbformat_minor": 5
}
